{
 "cells": [
  {
   "cell_type": "markdown",
   "metadata": {
    "slideshow": {
     "slide_type": "slide"
    }
   },
   "source": [
    "# 資料視覺化\n",
    "\n",
    "[數據交點](https://www.datainpoint.com) | 郭耀仁 <yaojenkuo@datainpoint.com>"
   ]
  },
  {
   "cell_type": "markdown",
   "metadata": {
    "slideshow": {
     "slide_type": "subslide"
    }
   },
   "source": [
    "> The simple graph has brought more information to the data analyst’s mind than any other device.\n",
    ">\n",
    "> [John Tukey](https://en.wikipedia.org/wiki/John_Tukey)"
   ]
  },
  {
   "cell_type": "markdown",
   "metadata": {
    "slideshow": {
     "slide_type": "subslide"
    }
   },
   "source": [
    "## 暸解資料視覺化\n",
    "\n",
    "1. 資料視覺化的 What 與 Why。\n",
    "2. 資料視覺化的工具箱。\n",
    "3. 用四個面向考量資料視覺化的工具。"
   ]
  },
  {
   "cell_type": "code",
   "execution_count": 1,
   "metadata": {
    "slideshow": {
     "slide_type": "skip"
    }
   },
   "outputs": [],
   "source": [
    "import numpy as np\n",
    "import pandas as pd\n",
    "import matplotlib.pyplot as plt"
   ]
  },
  {
   "cell_type": "markdown",
   "metadata": {
    "slideshow": {
     "slide_type": "slide"
    }
   },
   "source": [
    "## 資料視覺化的 What 與 Why"
   ]
  },
  {
   "cell_type": "markdown",
   "metadata": {
    "slideshow": {
     "slide_type": "subslide"
    }
   },
   "source": [
    "## 何謂資料視覺化\n",
    "\n",
    "> 資料視覺化是一門致力於將抽象性概念具體化的學科，透過圖形、顏色、形狀或大小等元素把原始資料或函式等所蘊含的特徵傳達給瀏覽者，進而將抽象的資訊轉換為溝通對象能快速掌握理解的精簡內容。"
   ]
  },
  {
   "cell_type": "markdown",
   "metadata": {
    "slideshow": {
     "slide_type": "subslide"
    }
   },
   "source": [
    "## 資料視覺化是現代資料科學應用的一個環節\n",
    "\n",
    "![](images/ds-workflow.png)\n",
    "\n",
    "來源：[R for Data Science](https://r4ds.had.co.nz/)"
   ]
  },
  {
   "cell_type": "markdown",
   "metadata": {
    "slideshow": {
     "slide_type": "subslide"
    }
   },
   "source": [
    "## 為何資料視覺化\n",
    "\n",
    "- 原始數列資料、函數對瀏覽者而言是抽象、不具資訊價值的。\n",
    "- 資料視覺化對瀏覽者而言是具體、具有資訊價值的。"
   ]
  },
  {
   "cell_type": "markdown",
   "metadata": {
    "slideshow": {
     "slide_type": "subslide"
    }
   },
   "source": [
    "## 抽象的原始數列資料"
   ]
  },
  {
   "cell_type": "code",
   "execution_count": 2,
   "metadata": {
    "slideshow": {
     "slide_type": "skip"
    }
   },
   "outputs": [],
   "source": [
    "arr = np.random.normal(size=10000)"
   ]
  },
  {
   "cell_type": "code",
   "execution_count": 3,
   "metadata": {},
   "outputs": [
    {
     "name": "stdout",
     "output_type": "stream",
     "text": [
      "[-1.07758271  1.55224998 -0.7295749  ... -0.18354096  0.51732877\n",
      "  2.35621533]\n"
     ]
    }
   ],
   "source": [
    "print(arr)"
   ]
  },
  {
   "cell_type": "markdown",
   "metadata": {
    "slideshow": {
     "slide_type": "subslide"
    }
   },
   "source": [
    "## 函數是抽象的\n",
    "\n",
    "\\begin{equation}\n",
    "f(p) = -y_{true}log(p)-(1-y_{true})log(1-p) \\\\\n",
    "y_{true} \\in \\{ 0, 1 \\}\n",
    "\\end{equation}"
   ]
  },
  {
   "cell_type": "markdown",
   "metadata": {
    "slideshow": {
     "slide_type": "subslide"
    }
   },
   "source": [
    "## 函數是抽象的（續）\n",
    "\n",
    "\\begin{equation}\n",
    "f(x) = \\frac{1}{1 + e^{-x}}\n",
    "\\end{equation}"
   ]
  },
  {
   "cell_type": "markdown",
   "metadata": {
    "slideshow": {
     "slide_type": "subslide"
    }
   },
   "source": [
    "## 資料視覺化對瀏覽者而言是具體、具有資訊價值的"
   ]
  },
  {
   "cell_type": "code",
   "execution_count": 4,
   "metadata": {
    "slideshow": {
     "slide_type": "skip"
    }
   },
   "outputs": [],
   "source": [
    "def plot_normal(arr):\n",
    "    fig = plt.figure()\n",
    "    ax = plt.axes()\n",
    "    ax.hist(arr, bins=50)\n",
    "    plt.show()"
   ]
  },
  {
   "cell_type": "code",
   "execution_count": 5,
   "metadata": {
    "slideshow": {
     "slide_type": "subslide"
    }
   },
   "outputs": [
    {
     "data": {
      "image/png": "[encoded data removed]",
      "text/plain": [
       "<Figure size 432x288 with 1 Axes>"
      ]
     },
     "metadata": {
      "needs_background": "light"
     },
     "output_type": "display_data"
    }
   ],
   "source": [
    "plot_normal(arr)"
   ]
  },
  {
   "cell_type": "code",
   "execution_count": 6,
   "metadata": {
    "slideshow": {
     "slide_type": "skip"
    }
   },
   "outputs": [],
   "source": [
    "def plot_cross_entropy(p, log_loss_0, log_loss_1):\n",
    "    fig = plt.figure()\n",
    "    ax = plt.axes()\n",
    "    ax.plot(p, log_loss_0, label='$y_{true}=0$')\n",
    "    ax.plot(p, log_loss_1, label='$y_{true}=1$')\n",
    "    ax.legend()\n",
    "    plt.show()\n",
    "    \n",
    "eps = 1e-06 # epsilon, a tiny number to avoid infinity\n",
    "p = np.linspace(0 + eps, 1 - eps, 10000)\n",
    "log_loss_0 = -np.log(1-p)\n",
    "log_loss_1 = -np.log(p)"
   ]
  },
  {
   "cell_type": "code",
   "execution_count": 7,
   "metadata": {
    "slideshow": {
     "slide_type": "subslide"
    }
   },
   "outputs": [
    {
     "data": {
      "image/png": "[encoded data removed]",
      "text/plain": [
       "<Figure size 432x288 with 1 Axes>"
      ]
     },
     "metadata": {
      "needs_background": "light"
     },
     "output_type": "display_data"
    }
   ],
   "source": [
    "plot_cross_entropy(p, log_loss_0, log_loss_1)"
   ]
  },
  {
   "cell_type": "code",
   "execution_count": 8,
   "metadata": {
    "slideshow": {
     "slide_type": "skip"
    }
   },
   "outputs": [],
   "source": [
    "def plot_sigmoid(x, y):\n",
    "    fig, ax = plt.subplots(1, 1)\n",
    "    ax.plot(x, y)\n",
    "    ax.set_xticks([])\n",
    "    ax.set_yticks([0, 0.5, 1])\n",
    "    ax.set_yticklabels(['0', '0.5', '1'])\n",
    "    ax.spines['left'].set_position('center')\n",
    "    ax.spines['right'].set_color('none')\n",
    "    ax.spines['top'].set_color('none')\n",
    "    plt.show()\n",
    "    \n",
    "x = np.linspace(-10, 10, 1000)\n",
    "y = 1 / (1 + np.exp(-x))"
   ]
  },
  {
   "cell_type": "code",
   "execution_count": 9,
   "metadata": {
    "slideshow": {
     "slide_type": "subslide"
    }
   },
   "outputs": [
    {
     "data": {
      "image/png": "[encoded data removed]",
      "text/plain": [
       "<Figure size 432x288 with 1 Axes>"
      ]
     },
     "metadata": {
      "needs_background": "light"
     },
     "output_type": "display_data"
    }
   ],
   "source": [
    "plot_sigmoid(x, y)"
   ]
  },
  {
   "cell_type": "markdown",
   "metadata": {
    "slideshow": {
     "slide_type": "subslide"
    }
   },
   "source": [
    "## 經典視覺化：有資訊價值、簡潔以及美觀\n",
    "\n",
    "- [Charles Minard's map of Napoleon's disastrous Russian campaign of 1812](https://en.wikipedia.org/wiki/Charles_Joseph_Minard#/media/File:Minard.png)\n",
    "- [Hans Rosling's 200 Countries, 200 Years, 4 Minutes](https://youtu.be/jbkSRLYSojo)"
   ]
  },
  {
   "cell_type": "markdown",
   "metadata": {
    "slideshow": {
     "slide_type": "slide"
    }
   },
   "source": [
    "## 資料視覺化的工具箱"
   ]
  },
  {
   "cell_type": "markdown",
   "metadata": {
    "slideshow": {
     "slide_type": "subslide"
    }
   },
   "source": [
    "## 如何做資料視覺化？\n",
    "\n",
    "![](https://media.giphy.com/media/atcqQ5PuX41J6/giphy.gif)\n",
    "\n",
    "來源：<https://giphy.com>"
   ]
  },
  {
   "cell_type": "markdown",
   "metadata": {
    "slideshow": {
     "slide_type": "subslide"
    }
   },
   "source": [
    "## 有一半的難關不是在作圖\n",
    "\n",
    "> When it comes to making graphs, half the battle occurs before you call any graphing commands.\n",
    ">\n",
    "> [Winston Chang](https://twitter.com/winston_chang?lang=en)"
   ]
  },
  {
   "cell_type": "markdown",
   "metadata": {
    "slideshow": {
     "slide_type": "subslide"
    }
   },
   "source": [
    "## 有一半的難關在於資料視覺化的前置作業\n",
    "\n",
    "![](images/viz-prerequisites.png)\n",
    "\n",
    "來源：[R for Data Science](https://r4ds.had.co.nz/)"
   ]
  },
  {
   "cell_type": "markdown",
   "metadata": {
    "slideshow": {
     "slide_type": "subslide"
    }
   },
   "source": [
    "## 資料視覺化三步驟\n",
    "\n",
    "1. 獲取資料。\n",
    "2. 將資料整理為合適的格式與類型。\n",
    "3. 輸入資料視覺化套件所定義好的函數。"
   ]
  },
  {
   "cell_type": "markdown",
   "metadata": {
    "slideshow": {
     "slide_type": "subslide"
    }
   },
   "source": [
    "## 各據山頭的資料視覺化工具\n",
    "\n",
    "- 商業智慧軟體\n",
    "- 程式語言\n",
    "    - Python\n",
    "    - R"
   ]
  },
  {
   "cell_type": "markdown",
   "metadata": {
    "slideshow": {
     "slide_type": "subslide"
    }
   },
   "source": [
    "## 商業智慧軟體\n",
    "    \n",
    "- [PowerBI]()\n",
    "- [Tableau]()"
   ]
  },
  {
   "cell_type": "markdown",
   "metadata": {
    "slideshow": {
     "slide_type": "subslide"
    }
   },
   "source": [
    "## Python 的資料視覺化模組\n",
    "    \n",
    "- [Matplotlib](https://matplotlib.org/)\n",
    "- [Seaborn](https://seaborn.pydata.org/)\n",
    "- [Plotly](https://plotly.com/)\n",
    "- [Folium](https://python-visualization.github.io/folium/)\n",
    "- [Dash](https://plotly.com/dash/)\n",
    "- [Streamlit](https://www.streamlit.io/)"
   ]
  },
  {
   "cell_type": "markdown",
   "metadata": {
    "slideshow": {
     "slide_type": "subslide"
    }
   },
   "source": [
    "## R 的資料視覺化模組\n",
    "\n",
    "- [Base Plotting System]()\n",
    "- [Ggplot2]()\n",
    "- [Plotly]()\n",
    "- [Shiny]()"
   ]
  },
  {
   "cell_type": "markdown",
   "metadata": {
    "slideshow": {
     "slide_type": "slide"
    }
   },
   "source": [
    "## 用四個面向考量資料視覺化的工具"
   ]
  },
  {
   "cell_type": "markdown",
   "metadata": {
    "slideshow": {
     "slide_type": "subslide"
    }
   },
   "source": [
    "## 資料視覺化工具這麼多，該怎麼選擇？"
   ]
  },
  {
   "cell_type": "markdown",
   "metadata": {
    "slideshow": {
     "slide_type": "subslide"
    }
   },
   "source": [
    "## 我建議可以考量四個面向\n",
    "\n",
    "1. 使用者數量（「西瓜偎大邊」與「衝量」哲學）。\n",
    "2. 互動性。\n",
    "3. 語法與彈性。\n",
    "4. 資料格式與視覺化類型。 "
   ]
  },
  {
   "cell_type": "markdown",
   "metadata": {
    "slideshow": {
     "slide_type": "subslide"
    }
   },
   "source": [
    "## 考量使用者數量\n",
    "\n",
    "![](images/sot-viz-lib.png)\n",
    "\n",
    "來源：[Stack Overflow Trends](https://insights.stackoverflow.com/trends?tags=matplotlib%2Cseaborn%2Cplotly%2Cbokeh%2Cggplot2%2Cleaflet)"
   ]
  },
  {
   "cell_type": "code",
   "execution_count": 10,
   "metadata": {
    "slideshow": {
     "slide_type": "skip"
    }
   },
   "outputs": [],
   "source": [
    "import pandas as pd\n",
    "import matplotlib.pyplot as plt\n",
    "from ks2020 import KaggleSurvey2020\n",
    "\n",
    "csv_file = \"kaggle_survey_2020_responses.csv\"\n",
    "ks = KaggleSurvey2020(csv_file)\n",
    "unique_questions = ks.generate_unique_questions()"
   ]
  },
  {
   "cell_type": "code",
   "execution_count": 11,
   "metadata": {
    "slideshow": {
     "slide_type": "subslide"
    }
   },
   "outputs": [
    {
     "name": "stdout",
     "output_type": "stream",
     "text": [
      "Which of the following business intelligence tools do you use on a regular basis? (Select all that apply)\n",
      "Too many categories, only showing the top 10.\n"
     ]
    },
    {
     "data": {
      "image/png": "[encoded data removed]",
      "text/plain": [
       "<Figure size 432x288 with 1 Axes>"
      ]
     },
     "metadata": {
      "needs_background": "light"
     },
     "output_type": "display_data"
    }
   ],
   "source": [
    "ks.plot_summary('Q31A')"
   ]
  },
  {
   "cell_type": "code",
   "execution_count": 12,
   "metadata": {
    "slideshow": {
     "slide_type": "subslide"
    }
   },
   "outputs": [
    {
     "name": "stdout",
     "output_type": "stream",
     "text": [
      "What data visualization libraries or tools do you use on a regular basis?  (Select all that apply)\n",
      "Too many categories, only showing the top 10.\n"
     ]
    },
    {
     "data": {
      "image/png": "[encoded data removed]",
      "text/plain": [
       "<Figure size 432x288 with 1 Axes>"
      ]
     },
     "metadata": {
      "needs_background": "light"
     },
     "output_type": "display_data"
    }
   ],
   "source": [
    "ks.plot_summary(\"Q14\")"
   ]
  },
  {
   "cell_type": "markdown",
   "metadata": {
    "slideshow": {
     "slide_type": "subslide"
    }
   },
   "source": [
    "## 考量互動性\n",
    "\n",
    "靜態 vs. 動態。"
   ]
  },
  {
   "cell_type": "markdown",
   "metadata": {
    "slideshow": {
     "slide_type": "subslide"
    }
   },
   "source": [
    "## 考量語法與彈性\n",
    "\n",
    "- 物件導向型 vs. 陳述型。\n",
    "- 低階 vs. 高階。"
   ]
  },
  {
   "cell_type": "markdown",
   "metadata": {
    "slideshow": {
     "slide_type": "subslide"
    }
   },
   "source": [
    "## 考量資料格式與視覺化類型\n",
    "\n",
    "- 資料格式：陣列、資料框或 JSON 等。\n",
    "- 特定的視覺化：樹狀圖、地理資訊或 Sankey Diagram 等。"
   ]
  },
  {
   "cell_type": "markdown",
   "metadata": {
    "slideshow": {
     "slide_type": "subslide"
    }
   },
   "source": [
    "## 簡而言之，商業智慧軟體\n",
    "\n",
    "- Windows 作業系統\n",
    "    - [Tableau](https://public.tableau.com/en-us/s/download)\n",
    "    - [PowerBI](https://powerbi.microsoft.com/zh-tw/downloads/)\n",
    "- macOS\n",
    "    - [Tableau](https://public.tableau.com/en-us/s/download)"
   ]
  },
  {
   "cell_type": "markdown",
   "metadata": {
    "slideshow": {
     "slide_type": "subslide"
    }
   },
   "source": [
    "## 簡而言之，Python 的視覺化模組\n",
    "\n",
    "- 靜態\n",
    "    - 低階：[Matplotlib](https://matplotlib.org/)\n",
    "    - 高階：[Seaborn](https://seaborn.pydata.org/)\n",
    "- 動態\n",
    "    - 在筆記本中：[Plotly](https://plotly.com/)\n",
    "    - 獨立網頁應用：[Dash](https://plotly.com/dash/) / [Streamlit](https://www.streamlit.io/)"
   ]
  },
  {
   "cell_type": "markdown",
   "metadata": {
    "slideshow": {
     "slide_type": "subslide"
    }
   },
   "source": [
    "## 簡而言之，R 的視覺化模組\n",
    "\n",
    "- 靜態\n",
    "    - 低階：[Base Plotting System](http://www.cookbook-r.com/Graphs/)\n",
    "    - 高階：[Ggplot2](https://ggplot2.tidyverse.org/)\n",
    "- 動態\n",
    "    - 在筆記本中：[Plotly](https://plotly.com/)\n",
    "    - 獨立網頁應用：[Shiny](https://shiny.rstudio.com/)"
   ]
  },
  {
   "cell_type": "markdown",
   "metadata": {
    "slideshow": {
     "slide_type": "subslide"
    }
   },
   "source": [
    "## 試用看看、參考範例\n",
    "\n",
    "- [Matplotlib](https://matplotlib.org/stable/gallery/index.html)\n",
    "- [Seaborn](https://seaborn.pydata.org/examples/index.html)\n",
    "- [Plotly](https://plotly.com/python/)\n",
    "- [Dash](https://dash.gallery/Portal/)\n",
    "- [Streamlit](https://streamlit.io/gallery)"
   ]
  },
  {
   "cell_type": "markdown",
   "metadata": {
    "slideshow": {
     "slide_type": "subslide"
    }
   },
   "source": [
    "## 試用看看、參考範例（續）\n",
    "\n",
    "- [Base Plotting System](https://www.r-graph-gallery.com/)\n",
    "- [Ggplot2](https://www.r-graph-gallery.com/ggplot2-package.html)\n",
    "- [Plotly](https://plotly.com/r/)\n",
    "- [Shiny](https://shiny.rstudio.com/gallery/)"
   ]
  }
 ],
 "metadata": {
  "celltoolbar": "Slideshow",
  "kernelspec": {
   "display_name": "Python Data Science",
   "language": "python",
   "name": "pyds"
  },
  "language_info": {
   "codemirror_mode": {
    "name": "ipython",
    "version": 3
   },
   "file_extension": ".py",
   "mimetype": "text/x-python",
   "name": "python",
   "nbconvert_exporter": "python",
   "pygments_lexer": "ipython3",
   "version": "3.8.10"
  }
 },
 "nbformat": 4,
 "nbformat_minor": 4
}
